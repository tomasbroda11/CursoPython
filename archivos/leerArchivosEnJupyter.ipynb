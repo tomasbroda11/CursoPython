{
 "cells": [
  {
   "cell_type": "code",
   "execution_count": 1,
   "metadata": {},
   "outputs": [
    {
     "name": "stdout",
     "output_type": "stream",
     "text": [
      "   Nombre Apellido  Edad\n",
      "0   Tomas    Broda    22\n",
      "1  Emilia    Broda    18\n",
      "2   Mario    Gomez    52\n"
     ]
    }
   ],
   "source": [
    "import pandas as pd\n",
    "archivo = pd.read_csv(\"archivos\\\\tabla1.csv\") \n",
    "print(archivo)"
   ]
  }
 ],
 "metadata": {
  "kernelspec": {
   "display_name": "Python 3",
   "language": "python",
   "name": "python3"
  },
  "language_info": {
   "codemirror_mode": {
    "name": "ipython",
    "version": 3
   },
   "file_extension": ".py",
   "mimetype": "text/x-python",
   "name": "python",
   "nbconvert_exporter": "python",
   "pygments_lexer": "ipython3",
   "version": "3.10.5"
  },
  "orig_nbformat": 4
 },
 "nbformat": 4,
 "nbformat_minor": 2
}
